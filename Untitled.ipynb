{
 "cells": [
  {
   "cell_type": "code",
   "execution_count": 2,
   "id": "9bc7b314-96fa-454a-98cf-5673c2b34046",
   "metadata": {},
   "outputs": [
    {
     "data": {
      "text/plain": [
       "'test'"
      ]
     },
     "execution_count": 2,
     "metadata": {},
     "output_type": "execute_result"
    }
   ],
   "source": [
    "# Write a program that will find \n",
    "# all numbers which are divisible by \n",
    "# 7 but are not a multiple of 5, between \n",
    "# 2000 and 3200 (both included). The numbers obtained should be printed in a list."
   ]
  },
  {
   "cell_type": "code",
   "execution_count": 17,
   "id": "c5f77776-2cca-41a0-ab01-f23692b77881",
   "metadata": {},
   "outputs": [],
   "source": [
    "def ex1() :\n",
    "    list_valid_number = []\n",
    "    for i in  range(2000 ,  3200) : \n",
    "        if (i%7 == 0 and i%5 !=0 ) :\n",
    "            list_valid_number.append(i)\n",
    "    return list_valid_number"
   ]
  },
  {
   "cell_type": "code",
   "execution_count": null,
   "id": "41736eb4-ebb0-4262-86bb-aba1238111c9",
   "metadata": {},
   "outputs": [],
   "source": [
    "# Write a program that can compute the factorial of a given number. \n",
    "# (the factorial of n is the product of all positive integers less than or equal to n). \n",
    "# for example factorial(5)= 5 x 4 x 3 x 2 x 1 the result is 120.  (i.e. factorial (0)=1) "
   ]
  },
  {
   "cell_type": "code",
   "execution_count": 28,
   "id": "58cf9d41-fe75-4428-aab9-4ebfa026d5cf",
   "metadata": {},
   "outputs": [
    {
     "data": {
      "text/plain": [
       "120"
      ]
     },
     "execution_count": 28,
     "metadata": {},
     "output_type": "execute_result"
    }
   ],
   "source": [
    "def ex2(nmbr) :\n",
    "    result = 1 \n",
    "    for i in range( 1, nmbr + 1 ) :\n",
    "        result = result * i\n",
    "    return result\n",
    "\n",
    "ex2(5)"
   ]
  },
  {
   "cell_type": "code",
   "execution_count": 29,
   "id": "50683ef0-d128-49c1-98b7-4a7b16fff9d2",
   "metadata": {},
   "outputs": [],
   "source": [
    "# With a given integer number n, \n",
    "# write a program to generate a dictionary \n",
    "# that contains (i, i*i) such that is an integral\n",
    "# number between 1 and n (both included). and then the program should print the dictionary. \n",
    "# Suppose the following input is supplied to the program: 8 Then, the output should \n",
    "#     be: {1: 1, 2: 4, 3: 9, 4: 16, 5: 25, 6: 36, 7: 49, 8: 64}  "
   ]
  },
  {
   "cell_type": "code",
   "execution_count": 50,
   "id": "ce45e755-b4c7-4884-ba51-51d0058d500c",
   "metadata": {},
   "outputs": [
    {
     "data": {
      "text/plain": [
       "{1: 1, 2: 4, 3: 9, 4: 16, 5: 25, 6: 36, 7: 49, 8: 64}"
      ]
     },
     "execution_count": 50,
     "metadata": {},
     "output_type": "execute_result"
    }
   ],
   "source": [
    "def ex3(nmbr):\n",
    "    result = { i : i * i for i in range(1 , nmbr + 1) }\n",
    "    return result\n",
    "    \n",
    "ex3(8)"
   ]
  },
  {
   "cell_type": "code",
   "execution_count": 74,
   "id": "6e878d0a-d850-4159-a273-d753767e6465",
   "metadata": {},
   "outputs": [
    {
     "data": {
      "text/plain": [
       "'salut'"
      ]
     },
     "execution_count": 74,
     "metadata": {},
     "output_type": "execute_result"
    }
   ],
   "source": [
    "# Given a non-empty string and an int n, return a new string where the char at index n has been removed. \n",
    "# The value of n will be a valid index of a char in the original string (i.e. n will be in the range 0..len(str)-1 inclusive). \n",
    "\n",
    "# missing_char('kitten', 1) → 'ktten'    for example here we remove \"i\" which is located in the index 1\n",
    "\n",
    "# missing_char('kitten', 0) → 'itten'   here we remove \"k\" which is in the index 0\n",
    "\n",
    "# missing_char('kitten', 4) → 'kittn'   here we remove \"e\" which is in the index 4\n",
    "\n",
    "test = 'test' \n",
    "\n",
    "def ex4(text , indx):\n",
    "    return text[:indx] + text[indx+1:]\n",
    "\n",
    "ex4('salutt' , 5 )\n"
   ]
  },
  {
   "cell_type": "code",
   "execution_count": 118,
   "id": "5cd7863f-dec5-48e5-974c-3ab74387a280",
   "metadata": {},
   "outputs": [
    {
     "name": "stdout",
     "output_type": "stream",
     "text": [
      "Original array elements : \n",
      "[[0 1]\n",
      " [2 3]\n",
      " [4 5]]\n",
      "Array to list : \n"
     ]
    },
    {
     "data": {
      "text/plain": [
       "[[0, 1], [2, 3], [4, 5]]"
      ]
     },
     "execution_count": 118,
     "metadata": {},
     "output_type": "execute_result"
    }
   ],
   "source": [
    "# Write a NumPy program to convert a NumPy array into a Python list structure.\n",
    "# Expected Output: \n",
    "# Original array elements: [[0 1] [2 3] [4 5]] \n",
    "# Array to list: [[0, 1], [2, 3], [4, 5]] \n",
    "\n",
    "[0,1,2,3,4,5,6,7,8]\n",
    "\n",
    "import numpy as np\n",
    "\n",
    "def ex5(nmbr): \n",
    "    if(nmbr % 2 == 0) :\n",
    "        print('Original array elements : ')\n",
    "        result = np.arange(nmbr).reshape(nmbr//2 , 2)\n",
    "        print(result)\n",
    "        print('Array to list : ')\n",
    "        return result.tolist()\n",
    "    else : \n",
    "        print('Original array elements : ')\n",
    "        result = np.arange(nmbr - 1).reshape(nmbr//2 , 2)\n",
    "        print(result)\n",
    "        print('Array to list : ')\n",
    "        newres =  result.tolist()\n",
    "        newres.append([nmbr])\n",
    "        return newres\n",
    "\n",
    "ex5(6)"
   ]
  },
  {
   "cell_type": "code",
   "execution_count": 136,
   "id": "c55f8552-890e-4fab-9f75-f28c277ed8fd",
   "metadata": {},
   "outputs": [
    {
     "data": {
      "text/plain": [
       "[[1.0, -1.0], [-1.0, 1.0]]"
      ]
     },
     "execution_count": 136,
     "metadata": {},
     "output_type": "execute_result"
    }
   ],
   "source": [
    "# Write a NumPy program to compute the covariance matrix of two given arrays. \n",
    "\n",
    "# Original array1: [0 1 2] \n",
    "\n",
    "# Original array2: [2 1 0] \n",
    "\n",
    "# Covariance matrix of the said arrays: [[ 1. -1.] [-1. 1.]]\n",
    " \n",
    "# Hint: We can use the np.cov() function to calculate the covariance between these two arrays\n",
    " \n",
    "import numpy as np\n",
    "\n",
    "array1= [0 ,1,2]\n",
    "array2= [2,1 ,0]\n",
    "\n",
    "def ex6(arr1 , arr2) :\n",
    "    covariance=np.cov(arr1 , arr2)\n",
    "    return covariance.tolist()\n",
    "\n",
    "ex6(array1 , array2)"
   ]
  },
  {
   "cell_type": "code",
   "execution_count": 151,
   "id": "6091cfcd-89e0-4eb3-8fb5-018d9298e4b9",
   "metadata": {},
   "outputs": [
    {
     "data": {
      "text/plain": [
       "[18, 22, 24]"
      ]
     },
     "execution_count": 151,
     "metadata": {},
     "output_type": "execute_result"
    }
   ],
   "source": [
    "import math\n",
    "# Question: Write a program that calculates and prints the value according to the given formula:\n",
    "# Q = Square root of [(2 * C * D)/H] \n",
    "\n",
    "# The following are the fixed values of C and H: C is 50. H is 30. \n",
    "\n",
    "# D is the variable whose values should be input into your program in a comma-separated sequence. (that means D contains more than value)\n",
    "\n",
    "# Example Let's assume the following comma-separated input sequence is given to the program: 100,150,180 The output of the program should be: 18,22,24 \n",
    "\n",
    "# To further explain this, we will obtain a result for \n",
    "# each value of D:  Q1= Square root of [(2 * C * 100)/H] =18, Q2= Square root of [(2 * C * 150)/H] = 22 and Q3 = Square root of [(2 * C * 180)/H]  = 24\n",
    "\n",
    "# Hints: If the output received is in decimal form, it should be rounded off to its nearest value \n",
    "#     (for example, if the output received is 26.0, it should be printed as 26) In case of input data being supplied to the question, \n",
    "#     it should be assumed to be a console input. \n",
    "D = [100,150,180] \n",
    "\n",
    "def ex7(arrNum):\n",
    "    C = 50 \n",
    "    H = 30\n",
    "    results = []\n",
    "    for i in arrNum : \n",
    "        Q = math.sqrt((2 * C * i)/H)\n",
    "        results.append(int(round(Q , 0)))\n",
    "    return results \n",
    "\n",
    "ex7(D)\n"
   ]
  },
  {
   "cell_type": "code",
   "execution_count": null,
   "id": "1724f69e-d3ae-41fb-a4d2-03392354aacb",
   "metadata": {},
   "outputs": [],
   "source": []
  }
 ],
 "metadata": {
  "kernelspec": {
   "display_name": "Python 3",
   "language": "python",
   "name": "python3"
  },
  "language_info": {
   "codemirror_mode": {
    "name": "ipython",
    "version": 3
   },
   "file_extension": ".py",
   "mimetype": "text/x-python",
   "name": "python",
   "nbconvert_exporter": "python",
   "pygments_lexer": "ipython3",
   "version": "3.8.8"
  }
 },
 "nbformat": 4,
 "nbformat_minor": 5
}
